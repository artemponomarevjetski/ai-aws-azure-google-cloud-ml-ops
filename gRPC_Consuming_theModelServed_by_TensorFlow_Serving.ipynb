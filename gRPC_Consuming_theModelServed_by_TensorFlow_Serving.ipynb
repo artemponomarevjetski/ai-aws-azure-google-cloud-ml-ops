{
 "cells": [
  {
   "cell_type": "markdown",
   "metadata": {},
   "source": [
    "# Welcome!\n",
    "Task 1. Create gRPC app using TensorFlow Machine Learning on the Amazon Deep Learning AMI Consuming the Model Served by TensorFlow Serving. Launch link:\n",
    "https://github.com/artemponomarevjetski/artemp-portfolio-complete-ml-ops-pipeline/blob/main/gRPC_Consuming_theModelServed_by_TensorFlow_Serving..ipynb\n",
    "\n",
    "TensorFlow Serving models are consumed by clients. Client code needs to make a connection to the server and communicate using protocol buffers. Google's gRPC remote procedure call library provides the ability to connect and make calls to the server. After establishing a connection, you make a call by preparing the input for model prediction and serializing it in the request. The serialized prediction output is returned by the server."
   ]
  },
  {
   "cell_type": "markdown",
   "metadata": {},
   "source": [
    "# Use `Shift+Enter` to run each cell of every notebook\n",
    "\n",
    "Use `Shift+Enter` on the cell below to see the output."
   ]
  },
  {
   "cell_type": "code",
   "execution_count": 51,
   "metadata": {},
   "outputs": [
    {
     "data": {
      "text/html": [
       "\n",
       "<a href=\"https://cloudacademy.com/lab/tensorflow-machine-learning-amazon-deep-learning-ami/log-in-to-the-amazon-web-service-console/?fromSearch=true\" class=\"btn\" data-size=\"large\" data-lang=\"en\" data-show-count=\"false\">gRPC lab</a>\n",
       "<script async src=\"https://platform.twitter.com/widgets.js\" charset=\"utf-8\"></script>\n"
      ],
      "text/plain": [
       "<IPython.core.display.HTML object>"
      ]
     },
     "metadata": {},
     "output_type": "display_data"
    }
   ],
   "source": [
    "%%html\n",
    "\n",
    "<a href=\"https://cloudacademy.com/lab/tensorflow-machine-learning-amazon-deep-learning-ami/log-in-to-the-amazon-web-service-console/?fromSearch=true\" class=\"btn\" data-size=\"large\" data-lang=\"en\" data-show-count=\"false\">gRPC lab</a>\n",
    "<script async src=\"https://platform.twitter.com/widgets.js\" charset=\"utf-8\"></script>\n"
   ]
  },
  {
   "cell_type": "code",
   "execution_count": 52,
   "metadata": {},
   "outputs": [
    {
     "data": {
      "text/html": [
       "<a href=\"https://github.com/artemponomarevjetski/artemp-portfolio-complete-ml-ops-pipeline.git\">gPRC repo</a>"
      ],
      "text/plain": [
       "<IPython.core.display.HTML object>"
      ]
     },
     "metadata": {},
     "output_type": "display_data"
    }
   ],
   "source": [
    "from IPython.core.display import display, HTML\n",
    "display(HTML(\"\"\"<a href=\"https://github.com/artemponomarevjetski/artemp-portfolio-complete-ml-ops-pipeline.git\">gPRC repo</a>\"\"\"))"
   ]
  },
  {
   "cell_type": "code",
   "execution_count": 53,
   "metadata": {},
   "outputs": [
    {
     "data": {
      "text/html": [
       "\n",
       "        <iframe\n",
       "            width=\"700\"\n",
       "            height=\"600\"\n",
       "            src=\"https://cloudacademy.com/lab/tensorflow-machine-learning-amazon-deep-learning-ami/log-in-to-the-amazon-web-service-console/\"\n",
       "            frameborder=\"0\"\n",
       "            allowfullscreen\n",
       "        ></iframe>\n",
       "        "
      ],
      "text/plain": [
       "<IPython.lib.display.IFrame at 0x10686c6d0>"
      ]
     },
     "execution_count": 53,
     "metadata": {},
     "output_type": "execute_result"
    }
   ],
   "source": [
    "from IPython.display import IFrame\n",
    "\n",
    "IFrame(src='https://cloudacademy.com/lab/tensorflow-machine-learning-amazon-deep-learning-ami/log-in-to-the-amazon-web-service-console/', width=700, height=600)"
   ]
  },
  {
   "cell_type": "code",
   "execution_count": 54,
   "metadata": {},
   "outputs": [
    {
     "data": {
      "text/html": [
       "<a href=\"https://cloudacademy.com/lab/tensorflow-machine-learning-amazon-deep-learning-ami/log-in-to-the-amazon-web-service-console/\">gPRC login</a>\n"
      ],
      "text/plain": [
       "<IPython.core.display.HTML object>"
      ]
     },
     "metadata": {},
     "output_type": "display_data"
    }
   ],
   "source": [
    "%%html\n",
    "<a href=\"https://cloudacademy.com/lab/tensorflow-machine-learning-amazon-deep-learning-ami/log-in-to-the-amazon-web-service-console/\">gPRC login</a>"
   ]
  }
 ],
 "metadata": {
  "kernelspec": {
   "display_name": "Python 3",
   "language": "python",
   "name": "python3"
  },
  "language_info": {
   "codemirror_mode": {
    "name": "ipython",
    "version": 3
   },
   "file_extension": ".py",
   "mimetype": "text/x-python",
   "name": "python",
   "nbconvert_exporter": "python",
   "pygments_lexer": "ipython3",
   "version": "3.8.6"
  }
 },
 "nbformat": 4,
 "nbformat_minor": 4
}
